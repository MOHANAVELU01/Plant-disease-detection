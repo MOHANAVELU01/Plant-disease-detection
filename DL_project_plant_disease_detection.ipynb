{
  "nbformat": 4,
  "nbformat_minor": 0,
  "metadata": {
    "colab": {
      "provenance": [],
      "gpuType": "T4"
    },
    "kernelspec": {
      "name": "python3",
      "display_name": "Python 3"
    },
    "language_info": {
      "name": "python"
    },
    "accelerator": "GPU"
  },
  "cells": [
    {
      "cell_type": "code",
      "source": [
        "from google.colab import drive\n",
        "drive.mount('/content/drive')"
      ],
      "metadata": {
        "colab": {
          "base_uri": "https://localhost:8080/"
        },
        "id": "lZLNjN2qzUaq",
        "outputId": "75e20eab-1ab7-49b4-93f4-c00f23946bf2"
      },
      "execution_count": null,
      "outputs": [
        {
          "output_type": "stream",
          "name": "stdout",
          "text": [
            "Mounted at /content/drive\n"
          ]
        }
      ]
    },
    {
      "cell_type": "code",
      "source": [
        "import tensorflow as tf\n",
        "import numpy as np\n",
        "import os\n",
        "from PIL import Image\n",
        "from sklearn.model_selection import train_test_split\n",
        "from sklearn.metrics import accuracy_score\n",
        "from tensorflow.keras.models import Sequential\n",
        "from tensorflow.keras.layers import Conv2D, MaxPooling2D, Flatten, Dense, Dropout\n",
        "\n",
        "IMG_SIZE = 128\n",
        "BATCH_SIZE = 32\n",
        "EPOCHS = 5\n",
        "\n",
        "def load_images_from_folder(folder_path):\n",
        "    images = []\n",
        "    labels = []\n",
        "    class_names = sorted([d for d in os.listdir(folder_path) if os.path.isdir(os.path.join(folder_path, d))])\n",
        "\n",
        "    print(f\"Found class names: {class_names}\")\n",
        "\n",
        "    for class_index, class_name in enumerate(class_names):\n",
        "        class_path = os.path.join(folder_path, class_name)\n",
        "        print(f\"Processing class folder: {class_path}\")\n",
        "        if not os.path.isdir(class_path):\n",
        "            print(f\"Skipping {class_path} because it's not a directory.\")\n",
        "            continue\n",
        "        for img_name in os.listdir(class_path):\n",
        "            if img_name.lower().endswith('.jpg'):\n",
        "                img_path = os.path.join(class_path, img_name)\n",
        "                try:\n",
        "                    image = Image.open(img_path)\n",
        "                    image = image.convert(\"RGB\")\n",
        "                    image = image.resize((IMG_SIZE, IMG_SIZE))\n",
        "                    image = np.array(image) / 255.0\n",
        "                    images.append(image)\n",
        "                    labels.append(class_index)\n",
        "                except Exception as e:\n",
        "                    print(f\"Error loading image {img_path}: {e}\")\n",
        "\n",
        "    images = np.array(images)\n",
        "    labels = np.array(labels)\n",
        "\n",
        "    print(f\"Loaded {len(images)} images and {len(labels)} labels.\")\n",
        "    print(f\"Class names: {class_names}\")\n",
        "\n",
        "    return images, labels, class_names\n",
        "\n",
        "def preprocess_and_split(images, labels):\n",
        "    if len(images) == 0:\n",
        "        raise ValueError(\"No images were loaded. Please check the folder path and ensure it contains valid JPG images.\")\n",
        "\n",
        "    X_train, X_test, y_train, y_test = train_test_split(images, labels, test_size=0.2, random_state=42)\n",
        "    train_dataset = tf.data.Dataset.from_tensor_slices((X_train, y_train)).shuffle(1000).batch(BATCH_SIZE)\n",
        "    test_dataset = tf.data.Dataset.from_tensor_slices((X_test, y_test)).batch(BATCH_SIZE)\n",
        "\n",
        "    return train_dataset, test_dataset\n",
        "\n",
        "def build_model(num_classes):\n",
        "    model = Sequential([\n",
        "        Conv2D(32, (3, 3), activation='relu', input_shape=(IMG_SIZE, IMG_SIZE, 3)),\n",
        "        MaxPooling2D((2, 2)),\n",
        "        Conv2D(64, (3, 3), activation='relu'),\n",
        "        MaxPooling2D((2, 2)),\n",
        "        Conv2D(128, (3, 3), activation='relu'),\n",
        "        MaxPooling2D((2, 2)),\n",
        "        Flatten(),\n",
        "        Dense(128, activation='relu'),\n",
        "        Dropout(0.5),\n",
        "        Dense(num_classes, activation='softmax')\n",
        "    ])\n",
        "\n",
        "    model.compile(optimizer='adam', loss='sparse_categorical_crossentropy', metrics=['accuracy'])\n",
        "    return model\n",
        "\n",
        "def train_and_evaluate(model, train_dataset, test_dataset):\n",
        "    history = model.fit(train_dataset, epochs=EPOCHS, validation_data=test_dataset)\n",
        "    return history\n",
        "\n",
        "def calculate_accuracy(model, test_dataset):\n",
        "    test_images = []\n",
        "    test_labels = []\n",
        "    for images, labels in test_dataset:\n",
        "        test_images.extend(images.numpy())\n",
        "        test_labels.extend(labels.numpy())\n",
        "\n",
        "    test_images = np.array(test_images)\n",
        "    test_labels = np.array(test_labels)\n",
        "\n",
        "    predictions = model.predict(test_images)\n",
        "    predicted_labels = np.argmax(predictions, axis=1)\n",
        "\n",
        "    accuracy = accuracy_score(test_labels, predicted_labels)\n",
        "    print(f\"Test Accuracy: {accuracy:.2f}\")\n",
        "    return accuracy\n",
        "\n",
        "def predict_disease(image_path, model, class_names):\n",
        "    image = Image.open(image_path)\n",
        "    image = image.convert(\"RGB\")\n",
        "    image = image.resize((IMG_SIZE, IMG_SIZE))\n",
        "    image = np.array(image) / 255.0\n",
        "    image = np.expand_dims(image, axis=0)\n",
        "\n",
        "    predictions = model.predict(image)\n",
        "    predicted_label = np.argmax(predictions)\n",
        "\n",
        "    disease = class_names[predicted_label]\n",
        "\n",
        "    solutions = {\n",
        "        'healthy': 'No disease detected, the plant is healthy.',\n",
        "        'early_blight': 'Solution: Remove affected leaves, use a fungicide.',\n",
        "        'late_blight': 'Solution: Destroy infected plants, use a fungicide.',\n",
        "        'leaf_mold': 'Solution: Improve air circulation, use fungicide.',\n",
        "        'powdery_mildew': 'Solution: Apply sulfur-based fungicide.',\n",
        "        'septoria_leaf_spot': 'Solution: Remove infected leaves, use fungicide.'\n",
        "    }\n",
        "\n",
        "    solution = solutions.get(disease, \"Solution not available\")\n",
        "\n",
        "    return disease, solution\n",
        "\n",
        "def get_image_and_predict(model, class_names):\n",
        "    image_path = input(\"Please enter the path to the plant image: \")\n",
        "    if os.path.exists(image_path):\n",
        "        disease, solution = predict_disease(image_path, model, class_names)\n",
        "        print(f\"Disease: {disease}\")\n",
        "        print(f\"Solution: {solution}\")\n",
        "    else:\n",
        "        print(\"Invalid file path. Please try again.\")\n",
        "\n",
        "folder_path = r\"/content/drive/MyDrive/PlantVillage\"\n",
        "\n",
        "if os.path.exists(folder_path):\n",
        "    images, labels, class_names = load_images_from_folder(folder_path)\n",
        "    train_dataset, test_dataset = preprocess_and_split(images, labels)\n",
        "    model = build_model(num_classes=len(class_names))\n",
        "    train_and_evaluate(model, train_dataset, test_dataset)\n",
        "    calculate_accuracy(model, test_dataset)\n",
        "    model.save('plant_disease_model.keras')\n",
        "    get_image_and_predict(model, class_names)\n",
        "else:\n",
        "    print(\"Invalid folder path. Please try again.\")\n"
      ],
      "metadata": {
        "colab": {
          "base_uri": "https://localhost:8080/"
        },
        "id": "t0Vq2ghXzVH5",
        "outputId": "08223868-b5f3-4a70-eec5-3331aaf90e58"
      },
      "execution_count": null,
      "outputs": [
        {
          "output_type": "stream",
          "name": "stdout",
          "text": [
            "Found class names: ['Pepper__bell___Bacterial_spot']\n",
            "Processing class folder: /content/drive/MyDrive/PlantVillage/Pepper__bell___Bacterial_spot\n",
            "Loaded 142 images and 142 labels.\n",
            "Class names: ['Pepper__bell___Bacterial_spot']\n",
            "Epoch 1/5\n"
          ]
        },
        {
          "output_type": "stream",
          "name": "stderr",
          "text": [
            "/usr/local/lib/python3.10/dist-packages/keras/src/layers/convolutional/base_conv.py:107: UserWarning: Do not pass an `input_shape`/`input_dim` argument to a layer. When using Sequential models, prefer using an `Input(shape)` object as the first layer in the model instead.\n",
            "  super().__init__(activity_regularizer=activity_regularizer, **kwargs)\n",
            "/usr/local/lib/python3.10/dist-packages/keras/src/ops/nn.py:545: UserWarning: You are using a softmax over axis -1 of a tensor of shape (None, 1). This axis has size 1. The softmax operation will always return the value 1, which is likely not what you intended. Did you mean to use a sigmoid instead?\n",
            "  warnings.warn(\n"
          ]
        },
        {
          "output_type": "stream",
          "name": "stdout",
          "text": [
            "\u001b[1m4/4\u001b[0m \u001b[32m━━━━━━━━━━━━━━━━━━━━\u001b[0m\u001b[37m\u001b[0m \u001b[1m10s\u001b[0m 1s/step - accuracy: 0.0000e+00 - loss: 0.0000e+00 - val_accuracy: 0.0000e+00 - val_loss: 0.0000e+00\n",
            "Epoch 2/5\n",
            "\u001b[1m4/4\u001b[0m \u001b[32m━━━━━━━━━━━━━━━━━━━━\u001b[0m\u001b[37m\u001b[0m \u001b[1m0s\u001b[0m 21ms/step - accuracy: 0.0000e+00 - loss: 0.0000e+00 - val_accuracy: 0.0000e+00 - val_loss: 0.0000e+00\n",
            "Epoch 3/5\n",
            "\u001b[1m4/4\u001b[0m \u001b[32m━━━━━━━━━━━━━━━━━━━━\u001b[0m\u001b[37m\u001b[0m \u001b[1m0s\u001b[0m 21ms/step - accuracy: 0.0000e+00 - loss: 0.0000e+00 - val_accuracy: 0.0000e+00 - val_loss: 0.0000e+00\n",
            "Epoch 4/5\n",
            "\u001b[1m4/4\u001b[0m \u001b[32m━━━━━━━━━━━━━━━━━━━━\u001b[0m\u001b[37m\u001b[0m \u001b[1m0s\u001b[0m 20ms/step - accuracy: 0.0000e+00 - loss: 0.0000e+00 - val_accuracy: 0.0000e+00 - val_loss: 0.0000e+00\n",
            "Epoch 5/5\n",
            "\u001b[1m4/4\u001b[0m \u001b[32m━━━━━━━━━━━━━━━━━━━━\u001b[0m\u001b[37m\u001b[0m \u001b[1m0s\u001b[0m 21ms/step - accuracy: 0.0000e+00 - loss: 0.0000e+00 - val_accuracy: 0.0000e+00 - val_loss: 0.0000e+00\n"
          ]
        },
        {
          "output_type": "stream",
          "name": "stderr",
          "text": [
            "/usr/local/lib/python3.10/dist-packages/keras/src/ops/nn.py:545: UserWarning: You are using a softmax over axis -1 of a tensor of shape (29, 1). This axis has size 1. The softmax operation will always return the value 1, which is likely not what you intended. Did you mean to use a sigmoid instead?\n",
            "  warnings.warn(\n"
          ]
        },
        {
          "name": "stdout",
          "output_type": "stream",
          "text": [
            "\u001b[1m1/1\u001b[0m \u001b[32m━━━━━━━━━━━━━━━━━━━━\u001b[0m\u001b[37m\u001b[0m \u001b[1m0s\u001b[0m 348ms/step\n",
            "Test Accuracy: 1.00\n",
            "Please enter the path to the plant image: /content/Potato-leaf-blight.webp\n"
          ]
        },
        {
          "output_type": "stream",
          "name": "stderr",
          "text": [
            "/usr/local/lib/python3.10/dist-packages/keras/src/ops/nn.py:545: UserWarning: You are using a softmax over axis -1 of a tensor of shape (None, 1). This axis has size 1. The softmax operation will always return the value 1, which is likely not what you intended. Did you mean to use a sigmoid instead?\n",
            "  warnings.warn(\n"
          ]
        },
        {
          "output_type": "stream",
          "name": "stdout",
          "text": [
            "\u001b[1m1/1\u001b[0m \u001b[32m━━━━━━━━━━━━━━━━━━━━\u001b[0m\u001b[37m\u001b[0m \u001b[1m1s\u001b[0m 787ms/step\n",
            "Disease: Pepper__bell___Bacterial_spot\n",
            "Solution: Solution not available\n"
          ]
        }
      ]
    },
    {
      "cell_type": "code",
      "source": [],
      "metadata": {
        "id": "iLFyVyIH2N3d"
      },
      "execution_count": null,
      "outputs": []
    }
  ]
}